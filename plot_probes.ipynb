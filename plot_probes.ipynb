{
 "cells": [
  {
   "cell_type": "code",
   "execution_count": 1,
   "id": "59dae12d-385e-463a-96fd-46f45c2445ec",
   "metadata": {},
   "outputs": [
    {
     "name": "stderr",
     "output_type": "stream",
     "text": [
      "Loading required package: cowplot\n",
      "\n",
      "Loading required package: data.table\n",
      "\n",
      "Loading required package: ggplot2\n",
      "\n",
      "Loading required package: pbapply\n",
      "\n"
     ]
    }
   ],
   "source": [
    "require(cowplot)\n",
    "require(data.table)\n",
    "require(ggplot2)\n",
    "require(pbapply)\n",
    "pboptions(type=\"timer\")"
   ]
  },
  {
   "cell_type": "markdown",
   "id": "c296917e-4722-4e95-8d35-7d909119f231",
   "metadata": {},
   "source": [
    "### Read input region metadata."
   ]
  },
  {
   "cell_type": "code",
   "execution_count": 21,
   "id": "bd5096dc-d22a-4d45-8baa-e2f89dc6a660",
   "metadata": {},
   "outputs": [
    {
     "data": {
      "text/html": [
       "'query_output_20220328-161338/probe_roi_1.48oligos.tsv'"
      ],
      "text/latex": [
       "'query\\_output\\_20220328-161338/probe\\_roi\\_1.48oligos.tsv'"
      ],
      "text/markdown": [
       "'query_output_20220328-161338/probe_roi_1.48oligos.tsv'"
      ],
      "text/plain": [
       "[1] \"query_output_20220328-161338/probe_roi_1.48oligos.tsv\""
      ]
     },
     "metadata": {},
     "output_type": "display_data"
    },
    {
     "data": {
      "text/html": [
       "<table class=\"dataframe\">\n",
       "<caption>A data.table: 6 × 14</caption>\n",
       "<thead>\n",
       "\t<tr><th scope=col>name</th><th scope=col>chromosome</th><th scope=col>start</th><th scope=col>end</th><th scope=col>sequence</th><th scope=col>gc_content</th><th scope=col>off_target_no</th><th scope=col>off_target_sum</th><th scope=col>Tm_dG</th><th scope=col>Tm_dH</th><th scope=col>Tm_dS</th><th scope=col>Tm</th><th scope=col>ss_dG</th><th scope=col>oligo_cost</th></tr>\n",
       "\t<tr><th scope=col>&lt;chr&gt;</th><th scope=col>&lt;chr&gt;</th><th scope=col>&lt;int&gt;</th><th scope=col>&lt;int&gt;</th><th scope=col>&lt;chr&gt;</th><th scope=col>&lt;dbl&gt;</th><th scope=col>&lt;int&gt;</th><th scope=col>&lt;int&gt;</th><th scope=col>&lt;dbl&gt;</th><th scope=col>&lt;dbl&gt;</th><th scope=col>&lt;dbl&gt;</th><th scope=col>&lt;dbl&gt;</th><th scope=col>&lt;dbl&gt;</th><th scope=col>&lt;dbl&gt;</th></tr>\n",
       "</thead>\n",
       "<tbody>\n",
       "\t<tr><td>ROI_1</td><td>chr21</td><td>27878136</td><td>27878216</td><td>TTTTAATGCTTTTCGTAAGCGCGAGAGAAGAAATTGAGATAACGTTGCATTAAGGAACTATTTAGTCTTGGGAGATACAT</td><td>0.3500</td><td>1</td><td>141</td><td> -97.66306</td><td>-637.2</td><td>-1.7396</td><td>81.46896</td><td>-3.266</td><td>0.5997316</td></tr>\n",
       "\t<tr><td>ROI_1</td><td>chr21</td><td>27878360</td><td>27878440</td><td>GACCACACCAACATATAGCATGCATCCGTCATCTCAATAGGCCCATTGTGCCCATTACAGTCAATCGACCACCCATTTCC</td><td>0.4875</td><td>1</td><td>139</td><td>-107.78280</td><td>-645.8</td><td>-1.7347</td><td>87.28927</td><td>-3.103</td><td>0.6078633</td></tr>\n",
       "\t<tr><td>ROI_1</td><td>chr21</td><td>27878551</td><td>27878631</td><td>ATTAATTTTACTTTAATTCTAGGTCACCACGCCTCTAGCCTACAGTCATGCTCCCATCGAAATGCCCCTGCTTAATTTAT</td><td>0.4000</td><td>1</td><td>135</td><td>-100.58955</td><td>-632.9</td><td>-1.7163</td><td>83.72293</td><td>-2.136</td><td>0.6035955</td></tr>\n",
       "\t<tr><td>ROI_1</td><td>chr21</td><td>27878636</td><td>27878716</td><td>TTGTGACGTTCTTCTGACATTGAGGGGGCTTTCTCTTAGCTATAATGTCAATGAGGTTTCACTGCACTTTTGGATTCACG</td><td>0.4250</td><td>1</td><td>121</td><td>-103.34219</td><td>-642.6</td><td>-1.7387</td><td>84.68224</td><td>-3.657</td><td>0.6383073</td></tr>\n",
       "\t<tr><td>ROI_1</td><td>chr21</td><td>27878768</td><td>27878848</td><td>CATCCTGGGCCAAGGCTGAGTAAGGAGACAGAGGAGCTTTAAGGAGACATGGAGGTGAACTCTAGGGGCAGCTACACTCT</td><td>0.5375</td><td>1</td><td>116</td><td>-109.41568</td><td>-639.4</td><td>-1.7088</td><td>88.96259</td><td>-4.038</td><td>0.6558601</td></tr>\n",
       "\t<tr><td>ROI_1</td><td>chr21</td><td>27878925</td><td>27879005</td><td>AGTGTTTTTGGTATGAAGATCTCCATGTGTTTCCATCATCAGCATCTCCTGTGCTCTTAATCTTACCCTGGACACCTGAC</td><td>0.4375</td><td>1</td><td>113</td><td>-102.79707</td><td>-636.1</td><td>-1.7195</td><td>84.88982</td><td>-2.397</td><td>0.6461766</td></tr>\n",
       "</tbody>\n",
       "</table>\n"
      ],
      "text/latex": [
       "A data.table: 6 × 14\n",
       "\\begin{tabular}{llllllllllllll}\n",
       " name & chromosome & start & end & sequence & gc\\_content & off\\_target\\_no & off\\_target\\_sum & Tm\\_dG & Tm\\_dH & Tm\\_dS & Tm & ss\\_dG & oligo\\_cost\\\\\n",
       " <chr> & <chr> & <int> & <int> & <chr> & <dbl> & <int> & <int> & <dbl> & <dbl> & <dbl> & <dbl> & <dbl> & <dbl>\\\\\n",
       "\\hline\n",
       "\t ROI\\_1 & chr21 & 27878136 & 27878216 & TTTTAATGCTTTTCGTAAGCGCGAGAGAAGAAATTGAGATAACGTTGCATTAAGGAACTATTTAGTCTTGGGAGATACAT & 0.3500 & 1 & 141 &  -97.66306 & -637.2 & -1.7396 & 81.46896 & -3.266 & 0.5997316\\\\\n",
       "\t ROI\\_1 & chr21 & 27878360 & 27878440 & GACCACACCAACATATAGCATGCATCCGTCATCTCAATAGGCCCATTGTGCCCATTACAGTCAATCGACCACCCATTTCC & 0.4875 & 1 & 139 & -107.78280 & -645.8 & -1.7347 & 87.28927 & -3.103 & 0.6078633\\\\\n",
       "\t ROI\\_1 & chr21 & 27878551 & 27878631 & ATTAATTTTACTTTAATTCTAGGTCACCACGCCTCTAGCCTACAGTCATGCTCCCATCGAAATGCCCCTGCTTAATTTAT & 0.4000 & 1 & 135 & -100.58955 & -632.9 & -1.7163 & 83.72293 & -2.136 & 0.6035955\\\\\n",
       "\t ROI\\_1 & chr21 & 27878636 & 27878716 & TTGTGACGTTCTTCTGACATTGAGGGGGCTTTCTCTTAGCTATAATGTCAATGAGGTTTCACTGCACTTTTGGATTCACG & 0.4250 & 1 & 121 & -103.34219 & -642.6 & -1.7387 & 84.68224 & -3.657 & 0.6383073\\\\\n",
       "\t ROI\\_1 & chr21 & 27878768 & 27878848 & CATCCTGGGCCAAGGCTGAGTAAGGAGACAGAGGAGCTTTAAGGAGACATGGAGGTGAACTCTAGGGGCAGCTACACTCT & 0.5375 & 1 & 116 & -109.41568 & -639.4 & -1.7088 & 88.96259 & -4.038 & 0.6558601\\\\\n",
       "\t ROI\\_1 & chr21 & 27878925 & 27879005 & AGTGTTTTTGGTATGAAGATCTCCATGTGTTTCCATCATCAGCATCTCCTGTGCTCTTAATCTTACCCTGGACACCTGAC & 0.4375 & 1 & 113 & -102.79707 & -636.1 & -1.7195 & 84.88982 & -2.397 & 0.6461766\\\\\n",
       "\\end{tabular}\n"
      ],
      "text/markdown": [
       "\n",
       "A data.table: 6 × 14\n",
       "\n",
       "| name &lt;chr&gt; | chromosome &lt;chr&gt; | start &lt;int&gt; | end &lt;int&gt; | sequence &lt;chr&gt; | gc_content &lt;dbl&gt; | off_target_no &lt;int&gt; | off_target_sum &lt;int&gt; | Tm_dG &lt;dbl&gt; | Tm_dH &lt;dbl&gt; | Tm_dS &lt;dbl&gt; | Tm &lt;dbl&gt; | ss_dG &lt;dbl&gt; | oligo_cost &lt;dbl&gt; |\n",
       "|---|---|---|---|---|---|---|---|---|---|---|---|---|---|\n",
       "| ROI_1 | chr21 | 27878136 | 27878216 | TTTTAATGCTTTTCGTAAGCGCGAGAGAAGAAATTGAGATAACGTTGCATTAAGGAACTATTTAGTCTTGGGAGATACAT | 0.3500 | 1 | 141 |  -97.66306 | -637.2 | -1.7396 | 81.46896 | -3.266 | 0.5997316 |\n",
       "| ROI_1 | chr21 | 27878360 | 27878440 | GACCACACCAACATATAGCATGCATCCGTCATCTCAATAGGCCCATTGTGCCCATTACAGTCAATCGACCACCCATTTCC | 0.4875 | 1 | 139 | -107.78280 | -645.8 | -1.7347 | 87.28927 | -3.103 | 0.6078633 |\n",
       "| ROI_1 | chr21 | 27878551 | 27878631 | ATTAATTTTACTTTAATTCTAGGTCACCACGCCTCTAGCCTACAGTCATGCTCCCATCGAAATGCCCCTGCTTAATTTAT | 0.4000 | 1 | 135 | -100.58955 | -632.9 | -1.7163 | 83.72293 | -2.136 | 0.6035955 |\n",
       "| ROI_1 | chr21 | 27878636 | 27878716 | TTGTGACGTTCTTCTGACATTGAGGGGGCTTTCTCTTAGCTATAATGTCAATGAGGTTTCACTGCACTTTTGGATTCACG | 0.4250 | 1 | 121 | -103.34219 | -642.6 | -1.7387 | 84.68224 | -3.657 | 0.6383073 |\n",
       "| ROI_1 | chr21 | 27878768 | 27878848 | CATCCTGGGCCAAGGCTGAGTAAGGAGACAGAGGAGCTTTAAGGAGACATGGAGGTGAACTCTAGGGGCAGCTACACTCT | 0.5375 | 1 | 116 | -109.41568 | -639.4 | -1.7088 | 88.96259 | -4.038 | 0.6558601 |\n",
       "| ROI_1 | chr21 | 27878925 | 27879005 | AGTGTTTTTGGTATGAAGATCTCCATGTGTTTCCATCATCAGCATCTCCTGTGCTCTTAATCTTACCCTGGACACCTGAC | 0.4375 | 1 | 113 | -102.79707 | -636.1 | -1.7195 | 84.88982 | -2.397 | 0.6461766 |\n",
       "\n"
      ],
      "text/plain": [
       "  name  chromosome start    end     \n",
       "1 ROI_1 chr21      27878136 27878216\n",
       "2 ROI_1 chr21      27878360 27878440\n",
       "3 ROI_1 chr21      27878551 27878631\n",
       "4 ROI_1 chr21      27878636 27878716\n",
       "5 ROI_1 chr21      27878768 27878848\n",
       "6 ROI_1 chr21      27878925 27879005\n",
       "  sequence                                                                        \n",
       "1 TTTTAATGCTTTTCGTAAGCGCGAGAGAAGAAATTGAGATAACGTTGCATTAAGGAACTATTTAGTCTTGGGAGATACAT\n",
       "2 GACCACACCAACATATAGCATGCATCCGTCATCTCAATAGGCCCATTGTGCCCATTACAGTCAATCGACCACCCATTTCC\n",
       "3 ATTAATTTTACTTTAATTCTAGGTCACCACGCCTCTAGCCTACAGTCATGCTCCCATCGAAATGCCCCTGCTTAATTTAT\n",
       "4 TTGTGACGTTCTTCTGACATTGAGGGGGCTTTCTCTTAGCTATAATGTCAATGAGGTTTCACTGCACTTTTGGATTCACG\n",
       "5 CATCCTGGGCCAAGGCTGAGTAAGGAGACAGAGGAGCTTTAAGGAGACATGGAGGTGAACTCTAGGGGCAGCTACACTCT\n",
       "6 AGTGTTTTTGGTATGAAGATCTCCATGTGTTTCCATCATCAGCATCTCCTGTGCTCTTAATCTTACCCTGGACACCTGAC\n",
       "  gc_content off_target_no off_target_sum Tm_dG      Tm_dH  Tm_dS   Tm      \n",
       "1 0.3500     1             141             -97.66306 -637.2 -1.7396 81.46896\n",
       "2 0.4875     1             139            -107.78280 -645.8 -1.7347 87.28927\n",
       "3 0.4000     1             135            -100.58955 -632.9 -1.7163 83.72293\n",
       "4 0.4250     1             121            -103.34219 -642.6 -1.7387 84.68224\n",
       "5 0.5375     1             116            -109.41568 -639.4 -1.7088 88.96259\n",
       "6 0.4375     1             113            -102.79707 -636.1 -1.7195 84.88982\n",
       "  ss_dG  oligo_cost\n",
       "1 -3.266 0.5997316 \n",
       "2 -3.103 0.6078633 \n",
       "3 -2.136 0.6035955 \n",
       "4 -3.657 0.6383073 \n",
       "5 -4.038 0.6558601 \n",
       "6 -2.397 0.6461766 "
      ]
     },
     "metadata": {},
     "output_type": "display_data"
    }
   ],
   "source": [
    "probe_meta = fread(\"data/rois/all_regions.tsv\")\n",
    "probe_summary = fread(\"data/probe_summary_probelet.tsv\")    # data/probe_summary.csv\n",
    "probelist = list.files(\"data/\", recursive=TRUE, pattern=\"probe_.+oligos\\\\.tsv$\")\n",
    "\n",
    "current_region = 1\n",
    "\n",
    "current_probe_id = 3    # 5 <-> 1e-5 etc\n",
    "probe = fread(paste(\"data\",probelist[current_probe_id],sep=\"/\"))\n",
    "\n",
    "probelist[current_probe_id]\n",
    "head(probe)"
   ]
  },
  {
   "cell_type": "code",
   "execution_count": 22,
   "id": "9ac204dd-64f6-42f9-ad89-2251912724b1",
   "metadata": {},
   "outputs": [
    {
     "data": {
      "text/html": [
       "<table class=\"dataframe\">\n",
       "<caption>A data.table: 1 × 16</caption>\n",
       "<thead>\n",
       "\t<tr><th scope=col>Window_start</th><th scope=col>Window_end</th><th scope=col>window_id</th><th scope=col>chrom</th><th scope=col>DNA_start</th><th scope=col>DNA_end</th><th scope=col>window</th><th scope=col>type</th><th scope=col>ref</th><th scope=col>length</th><th scope=col>Gene_start</th><th scope=col>Gene_end</th><th scope=col>Gene_strand</th><th scope=col>Gene_name</th><th scope=col>Gene_id</th><th scope=col>design_type</th></tr>\n",
       "\t<tr><th scope=col>&lt;int&gt;</th><th scope=col>&lt;int&gt;</th><th scope=col>&lt;int&gt;</th><th scope=col>&lt;chr&gt;</th><th scope=col>&lt;int&gt;</th><th scope=col>&lt;int&gt;</th><th scope=col>&lt;int&gt;</th><th scope=col>&lt;chr&gt;</th><th scope=col>&lt;chr&gt;</th><th scope=col>&lt;int&gt;</th><th scope=col>&lt;lgl&gt;</th><th scope=col>&lt;lgl&gt;</th><th scope=col>&lt;lgl&gt;</th><th scope=col>&lt;lgl&gt;</th><th scope=col>&lt;lgl&gt;</th><th scope=col>&lt;chr&gt;</th></tr>\n",
       "</thead>\n",
       "<tbody>\n",
       "\t<tr><td>27838528</td><td>27945603</td><td>1</td><td>chr21</td><td>27838528</td><td>27945603</td><td>50</td><td>targets</td><td>Homo_sapiens.GRCh37.dna</td><td>80</td><td>NA</td><td>NA</td><td>NA</td><td>NA</td><td>NA</td><td>DNA</td></tr>\n",
       "</tbody>\n",
       "</table>\n"
      ],
      "text/latex": [
       "A data.table: 1 × 16\n",
       "\\begin{tabular}{llllllllllllllll}\n",
       " Window\\_start & Window\\_end & window\\_id & chrom & DNA\\_start & DNA\\_end & window & type & ref & length & Gene\\_start & Gene\\_end & Gene\\_strand & Gene\\_name & Gene\\_id & design\\_type\\\\\n",
       " <int> & <int> & <int> & <chr> & <int> & <int> & <int> & <chr> & <chr> & <int> & <lgl> & <lgl> & <lgl> & <lgl> & <lgl> & <chr>\\\\\n",
       "\\hline\n",
       "\t 27838528 & 27945603 & 1 & chr21 & 27838528 & 27945603 & 50 & targets & Homo\\_sapiens.GRCh37.dna & 80 & NA & NA & NA & NA & NA & DNA\\\\\n",
       "\\end{tabular}\n"
      ],
      "text/markdown": [
       "\n",
       "A data.table: 1 × 16\n",
       "\n",
       "| Window_start &lt;int&gt; | Window_end &lt;int&gt; | window_id &lt;int&gt; | chrom &lt;chr&gt; | DNA_start &lt;int&gt; | DNA_end &lt;int&gt; | window &lt;int&gt; | type &lt;chr&gt; | ref &lt;chr&gt; | length &lt;int&gt; | Gene_start &lt;lgl&gt; | Gene_end &lt;lgl&gt; | Gene_strand &lt;lgl&gt; | Gene_name &lt;lgl&gt; | Gene_id &lt;lgl&gt; | design_type &lt;chr&gt; |\n",
       "|---|---|---|---|---|---|---|---|---|---|---|---|---|---|---|---|\n",
       "| 27838528 | 27945603 | 1 | chr21 | 27838528 | 27945603 | 50 | targets | Homo_sapiens.GRCh37.dna | 80 | NA | NA | NA | NA | NA | DNA |\n",
       "\n"
      ],
      "text/plain": [
       "  Window_start Window_end window_id chrom DNA_start DNA_end  window type   \n",
       "1 27838528     27945603   1         chr21 27838528  27945603 50     targets\n",
       "  ref                     length Gene_start Gene_end Gene_strand Gene_name\n",
       "1 Homo_sapiens.GRCh37.dna 80     NA         NA       NA          NA       \n",
       "  Gene_id design_type\n",
       "1 NA      DNA        "
      ]
     },
     "metadata": {},
     "output_type": "display_data"
    }
   ],
   "source": [
    "probe_meta[current_region]\n",
    "#probe_summary[, region_start := probe_meta[current_region, DNA_start], region_end := probe_meta[current_region, DNA_end]]"
   ]
  },
  {
   "cell_type": "markdown",
   "id": "2d160ccd-20d1-47e4-b689-54d1c594b3f3",
   "metadata": {},
   "source": [
    "### Evaluate oligo distribution homogeneity"
   ]
  },
  {
   "cell_type": "code",
   "execution_count": 23,
   "id": "71d88d1f-14fd-4e30-ba8f-267e64c36833",
   "metadata": {},
   "outputs": [
    {
     "data": {
      "text/plain": [
       "   Min. 1st Qu.  Median    Mean 3rd Qu.    Max. \n",
       "0.01397 0.01397 0.01397 0.01397 0.01397 0.01397 "
      ]
     },
     "metadata": {},
     "output_type": "display_data"
    },
    {
     "data": {
      "text/plain": [
       "   Min. 1st Qu.  Median    Mean 3rd Qu.    Max. \n",
       "  10.68   10.68   10.68   10.68   10.68   10.68 "
      ]
     },
     "metadata": {},
     "output_type": "display_data"
    }
   ],
   "source": [
    "\n",
    "probe[, homogeneity := 1 / sd(start[2:.N] - end[1:(.N-1)])]\n",
    "probe[, summary(homogeneity)]\n",
    "probe[, Tm_range := diff(range(Tm))]\n",
    "probe[, summary(Tm_range)]"
   ]
  },
  {
   "cell_type": "markdown",
   "id": "49cf9a6d-6983-4846-87c0-0e5204cd0449",
   "metadata": {},
   "source": [
    "### Visualize current probe and feature stats"
   ]
  },
  {
   "cell_type": "code",
   "execution_count": 24,
   "id": "fb5d1537-1e3f-4a35-9b8a-649340367770",
   "metadata": {},
   "outputs": [
    {
     "data": {
      "image/png": "[encoded data removed]",
      "text/plain": [
       "plot without title"
      ]
     },
     "metadata": {
      "image/png": {
       "height": 120,
       "width": 1200
      }
     },
     "output_type": "display_data"
    }
   ],
   "source": [
    "options(repr.plot.width=20, repr.plot.height=2)\n",
    "ggplot(probe, aes(x=start/1e6, xend=end/1e6, y=1, yend=1)) + geom_segment() +\n",
    "    theme_bw() + labs(x=\"Genomic coordinates (Mb)\") + theme(axis.text.y=element_blank(), axis.ticks.y=element_blank(), axis.title.y=element_blank()) +\n",
    "    geom_segment(aes(x=(start+end)/2e6, xend=(start+end)/2e6, y=.9, yend=1.1), linetype=\"dashed\", size=.25)"
   ]
  },
  {
   "cell_type": "code",
   "execution_count": 25,
   "id": "ccd33339-1b26-43d9-8f75-2887bf732e5d",
   "metadata": {},
   "outputs": [
    {
     "name": "stdout",
     "output_type": "stream",
     "text": [
      "[1] \"Stats for Tm\"\n",
      "[1] \"Tm range: 10.681664\"\n"
     ]
    },
    {
     "data": {
      "text/plain": [
       "   Min. 1st Qu.  Median    Mean 3rd Qu.    Max. \n",
       "  80.03   81.45   82.63   83.39   84.89   90.71 "
      ]
     },
     "metadata": {},
     "output_type": "display_data"
    },
    {
     "data": {
      "image/png": "[encoded data removed]",
      "text/plain": [
       "plot without title"
      ]
     },
     "metadata": {
      "image/png": {
       "height": 240,
       "width": 240
      }
     },
     "output_type": "display_data"
    }
   ],
   "source": [
    "print(\"Stats for Tm\")\n",
    "print(sprintf(\"Tm range: %f\", probe[, Tm_range[1]]))\n",
    "probe[, summary(Tm)]\n",
    "options(repr.plot.width=4, repr.plot.height=4)\n",
    "ggplot(probe, aes(x=Tm)) + geom_histogram(bins=30, color=\"#323232\") + labs(x=\"Melting temperature (degC)\") + theme_bw()"
   ]
  },
  {
   "cell_type": "code",
   "execution_count": 26,
   "id": "cad36fec-0246-4eab-bfae-16ac4e43cda7",
   "metadata": {},
   "outputs": [
    {
     "name": "stdout",
     "output_type": "stream",
     "text": [
      "[1] \"Stats for distance between consecutive oligos\"\n"
     ]
    },
    {
     "data": {
      "text/plain": [
       "   Min. 1st Qu.  Median    Mean 3rd Qu.    Max. \n",
       "   5.00   31.50   75.00   84.96  126.00  341.00 "
      ]
     },
     "metadata": {},
     "output_type": "display_data"
    },
    {
     "data": {
      "image/png": "[encoded data removed]",
      "text/plain": [
       "plot without title"
      ]
     },
     "metadata": {
      "image/png": {
       "height": 240,
       "width": 240
      }
     },
     "output_type": "display_data"
    }
   ],
   "source": [
    "print(\"Stats for distance between consecutive oligos\")\n",
    "probe[, summary(start[2:.N]-end[1:(.N-1)])]\n",
    "options(repr.plot.width=4, repr.plot.height=4)\n",
    "ggplot(probe[, .(odist=start[2:.N]-end[1:(.N-1)])]) + geom_histogram(aes(x=odist), color=\"#323232\", bins=30) +\n",
    "    labs(x=\"Distance between consecutive oligos (bp)\", subtitle=sprintf(\"Mean dist: %f bp\", probe[, mean(start[2:.N]-end[1:(.N-1)])])) + theme_bw()"
   ]
  },
  {
   "cell_type": "code",
   "execution_count": 20,
   "id": "9d9df71f-a334-4102-b11d-530f5713e955",
   "metadata": {},
   "outputs": [
    {
     "name": "stdout",
     "output_type": "stream",
     "text": [
      "[1] \"Stats for off_targets\"\n"
     ]
    },
    {
     "ename": "ERROR",
     "evalue": "Error in summary(offtargets_no): object 'offtargets_no' not found\n",
     "output_type": "error",
     "traceback": [
      "Error in summary(offtargets_no): object 'offtargets_no' not found\nTraceback:\n",
      "1. probe[, summary(offtargets_no)]",
      "2. `[.data.table`(probe, , summary(offtargets_no))",
      "3. eval(jsub, SDenv, parent.frame())",
      "4. eval(jsub, SDenv, parent.frame())",
      "5. summary(offtargets_no)"
     ]
    }
   ],
   "source": [
    "print(\"Stats for off_targets\")\n",
    "probe[, summary(offtargets_no)]\n",
    "probe[, .N, by=offtargets_no][order(offtargets_no)]"
   ]
  },
  {
   "cell_type": "code",
   "execution_count": null,
   "id": "cb563815",
   "metadata": {},
   "outputs": [],
   "source": []
  }
 ],
 "metadata": {
  "kernelspec": {
   "display_name": "R",
   "language": "R",
   "name": "ir"
  },
  "language_info": {
   "codemirror_mode": "r",
   "file_extension": ".r",
   "mimetype": "text/x-r-source",
   "name": "R",
   "pygments_lexer": "r",
   "version": "3.6.3"
  }
 },
 "nbformat": 4,
 "nbformat_minor": 5
}
