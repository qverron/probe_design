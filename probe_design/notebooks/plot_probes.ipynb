{
 "cells": [
  {
   "cell_type": "code",
   "execution_count": null,
   "id": "59dae12d-385e-463a-96fd-46f45c2445ec",
   "metadata": {
    "vscode": {
     "languageId": "r"
    }
   },
   "outputs": [],
   "source": [
    "require(cowplot)\n",
    "require(data.table)\n",
    "require(ggplot2)\n",
    "require(pbapply)\n",
    "pboptions(type=\"timer\")"
   ]
  },
  {
   "cell_type": "markdown",
   "id": "c296917e-4722-4e95-8d35-7d909119f231",
   "metadata": {},
   "source": [
    "### Read input region metadata."
   ]
  },
  {
   "cell_type": "code",
   "execution_count": null,
   "id": "bd5096dc-d22a-4d45-8baa-e2f89dc6a660",
   "metadata": {
    "vscode": {
     "languageId": "r"
    }
   },
   "outputs": [],
   "source": [
    "probe_meta = fread(\"data/rois/all_regions.tsv\")\n",
    "probe_summary = fread(\"data/probe_summary_probelet.tsv\")    # data/probe_summary.csv\n",
    "probelist = list.files(\"data/\", recursive=TRUE, pattern=\"probe_.+oligos\\\\.tsv$\")\n",
    "\n",
    "current_region = 1\n",
    "\n",
    "current_probe_id = 3    # 5 <-> 1e-5 etc\n",
    "probe = fread(paste(\"data\",probelist[current_probe_id],sep=\"/\"))\n",
    "\n",
    "probelist[current_probe_id]\n",
    "head(probe)"
   ]
  },
  {
   "cell_type": "code",
   "execution_count": null,
   "id": "9ac204dd-64f6-42f9-ad89-2251912724b1",
   "metadata": {
    "vscode": {
     "languageId": "r"
    }
   },
   "outputs": [],
   "source": [
    "probe_meta[current_region]\n",
    "#probe_summary[, region_start := probe_meta[current_region, DNA_start], region_end := probe_meta[current_region, DNA_end]]"
   ]
  },
  {
   "cell_type": "markdown",
   "id": "2d160ccd-20d1-47e4-b689-54d1c594b3f3",
   "metadata": {},
   "source": [
    "### Evaluate oligo distribution homogeneity"
   ]
  },
  {
   "cell_type": "code",
   "execution_count": null,
   "id": "71d88d1f-14fd-4e30-ba8f-267e64c36833",
   "metadata": {
    "vscode": {
     "languageId": "r"
    }
   },
   "outputs": [],
   "source": [
    "\n",
    "probe[, homogeneity := 1 / sd(start[2:.N] - end[1:(.N-1)])]\n",
    "probe[, summary(homogeneity)]\n",
    "probe[, Tm_range := diff(range(Tm))]\n",
    "probe[, summary(Tm_range)]"
   ]
  },
  {
   "cell_type": "markdown",
   "id": "49cf9a6d-6983-4846-87c0-0e5204cd0449",
   "metadata": {},
   "source": [
    "### Visualize current probe and feature stats"
   ]
  },
  {
   "cell_type": "code",
   "execution_count": null,
   "id": "fb5d1537-1e3f-4a35-9b8a-649340367770",
   "metadata": {
    "vscode": {
     "languageId": "r"
    }
   },
   "outputs": [],
   "source": [
    "options(repr.plot.width=20, repr.plot.height=2)\n",
    "ggplot(probe, aes(x=start/1e6, xend=end/1e6, y=1, yend=1)) + geom_segment() +\n",
    "    theme_bw() + labs(x=\"Genomic coordinates (Mb)\") + theme(axis.text.y=element_blank(), axis.ticks.y=element_blank(), axis.title.y=element_blank()) +\n",
    "    geom_segment(aes(x=(start+end)/2e6, xend=(start+end)/2e6, y=.9, yend=1.1), linetype=\"dashed\", size=.25)"
   ]
  },
  {
   "cell_type": "code",
   "execution_count": null,
   "id": "ccd33339-1b26-43d9-8f75-2887bf732e5d",
   "metadata": {
    "vscode": {
     "languageId": "r"
    }
   },
   "outputs": [],
   "source": [
    "print(\"Stats for Tm\")\n",
    "print(sprintf(\"Tm range: %f\", probe[, Tm_range[1]]))\n",
    "probe[, summary(Tm)]\n",
    "options(repr.plot.width=4, repr.plot.height=4)\n",
    "ggplot(probe, aes(x=Tm)) + geom_histogram(bins=30, color=\"#323232\") + labs(x=\"Melting temperature (degC)\") + theme_bw()"
   ]
  },
  {
   "cell_type": "code",
   "execution_count": null,
   "id": "cad36fec-0246-4eab-bfae-16ac4e43cda7",
   "metadata": {
    "vscode": {
     "languageId": "r"
    }
   },
   "outputs": [],
   "source": [
    "print(\"Stats for distance between consecutive oligos\")\n",
    "probe[, summary(start[2:.N]-end[1:(.N-1)])]\n",
    "options(repr.plot.width=4, repr.plot.height=4)\n",
    "ggplot(probe[, .(odist=start[2:.N]-end[1:(.N-1)])]) + geom_histogram(aes(x=odist), color=\"#323232\", bins=30) +\n",
    "    labs(x=\"Distance between consecutive oligos (bp)\", subtitle=sprintf(\"Mean dist: %f bp\", probe[, mean(start[2:.N]-end[1:(.N-1)])])) + theme_bw()"
   ]
  },
  {
   "cell_type": "code",
   "execution_count": null,
   "id": "9d9df71f-a334-4102-b11d-530f5713e955",
   "metadata": {
    "vscode": {
     "languageId": "r"
    }
   },
   "outputs": [],
   "source": [
    "print(\"Stats for off_targets\")\n",
    "probe[, summary(offtargets_no)]\n",
    "probe[, .N, by=offtargets_no][order(offtargets_no)]"
   ]
  },
  {
   "cell_type": "code",
   "execution_count": null,
   "id": "cb563815",
   "metadata": {
    "vscode": {
     "languageId": "r"
    }
   },
   "outputs": [],
   "source": []
  }
 ],
 "metadata": {
  "kernelspec": {
   "display_name": "R",
   "language": "R",
   "name": "ir"
  },
  "language_info": {
   "codemirror_mode": "r",
   "file_extension": ".r",
   "mimetype": "text/x-r-source",
   "name": "R",
   "pygments_lexer": "r",
   "version": "3.6.3"
  }
 },
 "nbformat": 4,
 "nbformat_minor": 5
}
